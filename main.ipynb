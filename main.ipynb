{
 "cells": [
  {
   "cell_type": "code",
   "execution_count": 47,
   "id": "5365c1c3",
   "metadata": {},
   "outputs": [],
   "source": [
    "# %pip3 install --upgrade pip\n",
    "# %pip install fasttext\n",
    "# %pip install pandas\n",
    "# %pip install sklearn"
   ]
  },
  {
   "cell_type": "code",
   "execution_count": 48,
   "id": "b83d1e3a",
   "metadata": {},
   "outputs": [],
   "source": [
    "import pandas as pd\n",
    "import numpy as np\n",
    "import matplotlib.pyplot as plt\n",
    "from utils import preprocess, evaluate"
   ]
  },
  {
   "cell_type": "code",
   "execution_count": 49,
   "id": "9091aed4",
   "metadata": {},
   "outputs": [
    {
     "name": "stdout",
     "output_type": "stream",
     "text": [
      "Test data shape: (755, 2)\n"
     ]
    }
   ],
   "source": [
    "# create an instance of the Preprocess class\n",
    "preprocess = preprocess.Preprocess('data/CR')\n",
    "test_data = preprocess.load_data('test_data')\n",
    "print(f\"Test data shape: {test_data.shape}\")"
   ]
  },
  {
   "cell_type": "code",
   "execution_count": 50,
   "id": "9c376246",
   "metadata": {},
   "outputs": [],
   "source": [
    "# create an instance of the Evaluate class\n",
    "evaluate_model = evaluate.Evaluate('models', test_data, 'results')"
   ]
  },
  {
   "cell_type": "code",
   "execution_count": 51,
   "id": "e9e7574f",
   "metadata": {},
   "outputs": [
    {
     "name": "stdout",
     "output_type": "stream",
     "text": [
      "BERT Model:\n",
      "----------------\n",
      "Accuracy: 0.8887\n",
      "Macro Average F1: 0.8777\n",
      "Weighted Average F1: 0.8883\n",
      "Precision: 0.8881\n",
      "Recall: 0.8887\n",
      "Confusion Matrix:\n",
      "[[222  47]\n",
      " [ 37 449]]\n",
      "\n",
      "\n"
     ]
    }
   ],
   "source": [
    "# evaluate the performance for BERT\n",
    "bert_accuracy, bert_f1_macro, bert_f1_weighted, bert_predictions = evaluate_model.evaluate_performance(\"BERT\")"
   ]
  },
  {
   "cell_type": "code",
   "execution_count": 52,
   "id": "0fced53e",
   "metadata": {},
   "outputs": [
    {
     "name": "stdout",
     "output_type": "stream",
     "text": [
      "DistilBERT Model:\n",
      "----------------\n",
      "Accuracy: 0.8927\n",
      "Macro Average F1: 0.8770\n",
      "Weighted Average F1: 0.8946\n",
      "Precision: 0.9002\n",
      "Recall: 0.8927\n",
      "Confusion Matrix:\n",
      "[[202  24]\n",
      " [ 57 472]]\n",
      "\n",
      "\n"
     ]
    }
   ],
   "source": [
    "# evaluate the performance for DistilBERT\n",
    "distilbert_accuracy, distilbert_f1_macro, distilbert_f1_weighted, distilbert_predictions = evaluate_model.evaluate_performance(\"DistilBERT\")"
   ]
  },
  {
   "cell_type": "code",
   "execution_count": 53,
   "id": "36be90c7",
   "metadata": {},
   "outputs": [
    {
     "name": "stdout",
     "output_type": "stream",
     "text": [
      "RoBERTa Model:\n",
      "----------------\n",
      "Accuracy: 0.9391\n",
      "Macro Average F1: 0.9328\n",
      "Weighted Average F1: 0.9389\n",
      "Precision: 0.9389\n",
      "Recall: 0.9391\n",
      "Confusion Matrix:\n",
      "[[239  26]\n",
      " [ 20 470]]\n",
      "\n",
      "\n"
     ]
    }
   ],
   "source": [
    "# evaluate the performance for RoBERTa\n",
    "roberta_accuracy, roberta_f1_macro, roberta_f1_weighted, roberta_predictions = evaluate_model.evaluate_performance(\"RoBERTa\")"
   ]
  },
  {
   "cell_type": "code",
   "execution_count": 54,
   "id": "3108327a",
   "metadata": {},
   "outputs": [
    {
     "name": "stdout",
     "output_type": "stream",
     "text": [
      "XLNET Model:\n",
      "----------------\n",
      "Accuracy: 0.9298\n",
      "Macro Average F1: 0.9225\n",
      "Weighted Average F1: 0.9296\n",
      "Precision: 0.9296\n",
      "Recall: 0.9298\n",
      "Confusion Matrix:\n",
      "[[235  29]\n",
      " [ 24 467]]\n",
      "\n",
      "\n"
     ]
    }
   ],
   "source": [
    "# evaluate the performance for XLNet\n",
    "xlnet_accuracy, xlnet_f1_macro, xlnet_f1_weighted, xlnet_predictions = evaluate_model.evaluate_performance(\"XLNET\")"
   ]
  },
  {
   "cell_type": "code",
   "execution_count": 55,
   "id": "e38e43e4",
   "metadata": {},
   "outputs": [
    {
     "name": "stdout",
     "output_type": "stream",
     "text": [
      "FastText Model:\n",
      "----------------\n",
      "Accuracy: 0.7722\n",
      "Macro Average F1: 0.7396\n",
      "Weighted Average F1: 0.7685\n",
      "Precision: 0.7675\n",
      "Recall: 0.7722\n",
      "Confusion Matrix:\n",
      "[[158 101]\n",
      " [ 71 425]]\n",
      "\n",
      "\n"
     ]
    },
    {
     "name": "stderr",
     "output_type": "stream",
     "text": [
      "Warning : `load_model` does not return WordVectorModel or SupervisedModel any more, but a `FastText` object which is very similar.\n"
     ]
    }
   ],
   "source": [
    "# evaluate the performance for FastText\n",
    "fasttext_accuracy, fasttext_f1_macro, fasttext_f1_weighted, fasttext_predictions = evaluate_model.evaluate_performance(\"FastText\")"
   ]
  },
  {
   "cell_type": "code",
   "execution_count": 56,
   "id": "c12349b0",
   "metadata": {},
   "outputs": [],
   "source": [
    "# save the predictions\n",
    "evaluate_model.save_predictions(bert_predictions, distilbert_predictions, xlnet_predictions,\n",
    "                                roberta_predictions, fasttext_predictions)"
   ]
  },
  {
   "cell_type": "code",
   "execution_count": 57,
   "id": "b15484b7",
   "metadata": {},
   "outputs": [
    {
     "data": {
      "text/html": [
       "<div>\n",
       "<style scoped>\n",
       "    .dataframe tbody tr th:only-of-type {\n",
       "        vertical-align: middle;\n",
       "    }\n",
       "\n",
       "    .dataframe tbody tr th {\n",
       "        vertical-align: top;\n",
       "    }\n",
       "\n",
       "    .dataframe thead th {\n",
       "        text-align: right;\n",
       "    }\n",
       "</style>\n",
       "<table border=\"1\" class=\"dataframe\">\n",
       "  <thead>\n",
       "    <tr style=\"text-align: right;\">\n",
       "      <th></th>\n",
       "      <th>Sentence</th>\n",
       "      <th>BERT</th>\n",
       "      <th>DistilBERT</th>\n",
       "      <th>XLNet</th>\n",
       "      <th>RoBERTa</th>\n",
       "      <th>FastText</th>\n",
       "      <th>Truth_label</th>\n",
       "    </tr>\n",
       "  </thead>\n",
       "  <tbody>\n",
       "    <tr>\n",
       "      <th>0</th>\n",
       "      <td>very intuitive menus are a big plus on this ca...</td>\n",
       "      <td>1</td>\n",
       "      <td>1</td>\n",
       "      <td>1</td>\n",
       "      <td>1</td>\n",
       "      <td>1</td>\n",
       "      <td>1</td>\n",
       "    </tr>\n",
       "    <tr>\n",
       "      <th>1</th>\n",
       "      <td>i do like this phone overall ( would give it a...</td>\n",
       "      <td>1</td>\n",
       "      <td>1</td>\n",
       "      <td>1</td>\n",
       "      <td>1</td>\n",
       "      <td>1</td>\n",
       "      <td>1</td>\n",
       "    </tr>\n",
       "    <tr>\n",
       "      <th>2</th>\n",
       "      <td>if you have an older version of `` internet se...</td>\n",
       "      <td>0</td>\n",
       "      <td>0</td>\n",
       "      <td>0</td>\n",
       "      <td>0</td>\n",
       "      <td>1</td>\n",
       "      <td>0</td>\n",
       "    </tr>\n",
       "    <tr>\n",
       "      <th>3</th>\n",
       "      <td>the disadvantages of this camera is it has bee...</td>\n",
       "      <td>0</td>\n",
       "      <td>0</td>\n",
       "      <td>0</td>\n",
       "      <td>0</td>\n",
       "      <td>1</td>\n",
       "      <td>0</td>\n",
       "    </tr>\n",
       "    <tr>\n",
       "      <th>4</th>\n",
       "      <td>it was a good player when it worked and i love...</td>\n",
       "      <td>1</td>\n",
       "      <td>1</td>\n",
       "      <td>1</td>\n",
       "      <td>1</td>\n",
       "      <td>1</td>\n",
       "      <td>1</td>\n",
       "    </tr>\n",
       "    <tr>\n",
       "      <th>5</th>\n",
       "      <td>one cabinet shop has been using one regularly ...</td>\n",
       "      <td>1</td>\n",
       "      <td>1</td>\n",
       "      <td>1</td>\n",
       "      <td>1</td>\n",
       "      <td>1</td>\n",
       "      <td>1</td>\n",
       "    </tr>\n",
       "    <tr>\n",
       "      <th>6</th>\n",
       "      <td>the door would not close .</td>\n",
       "      <td>0</td>\n",
       "      <td>0</td>\n",
       "      <td>0</td>\n",
       "      <td>0</td>\n",
       "      <td>0</td>\n",
       "      <td>0</td>\n",
       "    </tr>\n",
       "    <tr>\n",
       "      <th>7</th>\n",
       "      <td>while , there are flaws with the machine , the...</td>\n",
       "      <td>1</td>\n",
       "      <td>1</td>\n",
       "      <td>1</td>\n",
       "      <td>1</td>\n",
       "      <td>1</td>\n",
       "      <td>1</td>\n",
       "    </tr>\n",
       "    <tr>\n",
       "      <th>8</th>\n",
       "      <td>the battery is replaceable ( a real plus ) and...</td>\n",
       "      <td>1</td>\n",
       "      <td>1</td>\n",
       "      <td>1</td>\n",
       "      <td>1</td>\n",
       "      <td>1</td>\n",
       "      <td>1</td>\n",
       "    </tr>\n",
       "    <tr>\n",
       "      <th>9</th>\n",
       "      <td>the screen may be a little smaller , but it is...</td>\n",
       "      <td>0</td>\n",
       "      <td>0</td>\n",
       "      <td>0</td>\n",
       "      <td>0</td>\n",
       "      <td>0</td>\n",
       "      <td>0</td>\n",
       "    </tr>\n",
       "  </tbody>\n",
       "</table>\n",
       "</div>"
      ],
      "text/plain": [
       "                                            Sentence  BERT  DistilBERT  XLNet  \\\n",
       "0  very intuitive menus are a big plus on this ca...     1           1      1   \n",
       "1  i do like this phone overall ( would give it a...     1           1      1   \n",
       "2  if you have an older version of `` internet se...     0           0      0   \n",
       "3  the disadvantages of this camera is it has bee...     0           0      0   \n",
       "4  it was a good player when it worked and i love...     1           1      1   \n",
       "5  one cabinet shop has been using one regularly ...     1           1      1   \n",
       "6                        the door would not close .      0           0      0   \n",
       "7  while , there are flaws with the machine , the...     1           1      1   \n",
       "8  the battery is replaceable ( a real plus ) and...     1           1      1   \n",
       "9  the screen may be a little smaller , but it is...     0           0      0   \n",
       "\n",
       "   RoBERTa  FastText  Truth_label  \n",
       "0        1         1            1  \n",
       "1        1         1            1  \n",
       "2        0         1            0  \n",
       "3        0         1            0  \n",
       "4        1         1            1  \n",
       "5        1         1            1  \n",
       "6        0         0            0  \n",
       "7        1         1            1  \n",
       "8        1         1            1  \n",
       "9        0         0            0  "
      ]
     },
     "execution_count": 57,
     "metadata": {},
     "output_type": "execute_result"
    }
   ],
   "source": [
    "pred = pd.read_csv('results/model_predictions.csv')\n",
    "pred.head(10)"
   ]
  },
  {
   "cell_type": "code",
   "execution_count": 58,
   "id": "5b736037",
   "metadata": {},
   "outputs": [
    {
     "data": {
      "image/png": "[encoded data removed]",
      "text/plain": [
       "<Figure size 1200x800 with 1 Axes>"
      ]
     },
     "metadata": {},
     "output_type": "display_data"
    }
   ],
   "source": [
    "# plot the comparison graph with values displayed on the bars\n",
    "models = ['BERT', 'DistilBERT', 'XLNet', 'RoBERTa', 'FastText']\n",
    "metrics = ['Accuracy', 'Macro F1', 'Weighted F1']\n",
    "bert_scores = [bert_accuracy, bert_f1_macro, bert_f1_weighted]\n",
    "distilbert_scores = [distilbert_accuracy, distilbert_f1_macro, distilbert_f1_weighted]\n",
    "xlnet_scores = [xlnet_accuracy, xlnet_f1_macro, xlnet_f1_weighted]\n",
    "roberta_scores = [roberta_accuracy, roberta_f1_macro, roberta_f1_weighted]\n",
    "fasttext_scores = [fasttext_accuracy, fasttext_f1_macro, fasttext_f1_weighted]\n",
    "\n",
    "fig, ax = plt.subplots(figsize=(12, 8)) \n",
    "bar_width = 0.25\n",
    "bar_positions = np.arange(len(models))\n",
    "\n",
    "# change the bar colors\n",
    "colors = ['blue', 'green', 'orange']\n",
    "\n",
    "for i, metric in enumerate(metrics):\n",
    "    ax.bar(bar_positions + i * bar_width, [bert_scores[i], distilbert_scores[i], xlnet_scores[i],\n",
    "                                            roberta_scores[i], fasttext_scores[i]], bar_width,\n",
    "            color=colors[i],\n",
    "            label=metric)\n",
    "\n",
    "# add text annotations above each bar\n",
    "for i, model in enumerate(models):\n",
    "    for j, metric in enumerate(metrics):\n",
    "        value = round([bert_scores[j], distilbert_scores[j], xlnet_scores[j], roberta_scores[j],\n",
    "                        fasttext_scores[j]][i], 3)\n",
    "        ax.text(bar_positions[i] + j * bar_width, [bert_scores[j], distilbert_scores[j], xlnet_scores[j],\n",
    "                                                    roberta_scores[j], fasttext_scores[j]][i] + 0.01,\n",
    "                f'{value}', ha='center', va='bottom', color='black') \n",
    "\n",
    "ax.set_xticks(bar_positions + bar_width)\n",
    "ax.set_xticklabels(models)\n",
    "ax.legend(loc='lower left')\n",
    "plt.xlabel('Models')\n",
    "plt.ylabel('Scores')\n",
    "plt.title('Model Performance Comparison')\n",
    "plt.tight_layout()  # ensure tight layout to avoid overlapping text\n",
    "plt.savefig('results/class_compare.png')\n",
    "plt.show()"
   ]
  },
  {
   "cell_type": "code",
   "execution_count": null,
   "id": "30697008",
   "metadata": {},
   "outputs": [],
   "source": []
  }
 ],
 "metadata": {
  "kernelspec": {
   "display_name": "Python 3 (ipykernel)",
   "language": "python",
   "name": "python3"
  },
  "language_info": {
   "codemirror_mode": {
    "name": "ipython",
    "version": 3
   },
   "file_extension": ".py",
   "mimetype": "text/x-python",
   "name": "python",
   "nbconvert_exporter": "python",
   "pygments_lexer": "ipython3",
   "version": "3.11.0"
  }
 },
 "nbformat": 4,
 "nbformat_minor": 5
}
